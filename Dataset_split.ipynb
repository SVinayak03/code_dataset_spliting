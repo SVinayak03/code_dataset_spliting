{
  "nbformat": 4,
  "nbformat_minor": 0,
  "metadata": {
    "colab": {
      "provenance": [],
      "authorship_tag": "ABX9TyOp/XBRNC8if+8SFPcSucYR"
    },
    "kernelspec": {
      "name": "python3",
      "display_name": "Python 3"
    },
    "language_info": {
      "name": "python"
    }
  },
  "cells": [
    {
      "cell_type": "code",
      "source": [
        "from google.colab import drive\n",
        "drive.mount('/content/drive')"
      ],
      "metadata": {
        "colab": {
          "base_uri": "https://localhost:8080/"
        },
        "id": "I9oFbfxHRV-6",
        "outputId": "e766f80d-00da-40a3-8899-a2acbaf4e5be"
      },
      "execution_count": null,
      "outputs": [
        {
          "output_type": "stream",
          "name": "stdout",
          "text": [
            "Mounted at /content/drive\n"
          ]
        }
      ]
    },
    {
      "cell_type": "code",
      "execution_count": null,
      "metadata": {
        "colab": {
          "base_uri": "https://localhost:8080/"
        },
        "id": "IhNqiW_uRFw_",
        "outputId": "fb2ef1c3-d899-44b4-d02c-8d493276c623"
      },
      "outputs": [
        {
          "output_type": "stream",
          "name": "stdout",
          "text": [
            "Looking in indexes: https://pypi.org/simple, https://us-python.pkg.dev/colab-wheels/public/simple/\n",
            "Requirement already satisfied: split_folders[full] in /usr/local/lib/python3.7/dist-packages (0.5.1)\n",
            "Requirement already satisfied: tqdm in /usr/local/lib/python3.7/dist-packages (from split_folders[full]) (4.64.1)\n"
          ]
        }
      ],
      "source": [
        "!pip install split_folders[full]\n",
        "#import split_folders # or import splitfolders\n",
        "#import splitfolders"
      ]
    },
    {
      "cell_type": "code",
      "source": [
        "import splitfolders"
      ],
      "metadata": {
        "id": "Du6yFiGhRUic"
      },
      "execution_count": null,
      "outputs": []
    },
    {
      "cell_type": "code",
      "source": [
        "# Split with a ratio.\n",
        "# To only split into training and validation set, set a tuple to `ratio`, i.e, `(.8, .2)`.\n",
        "split_folders.ratio(\"/content/drive/MyDrive/Cattle\", output=\"/content/drive/MyDrive/Cattle\",\n",
        "    seed=49, ratio=(.8, .2), group_prefix=None, move=False) # default values\n",
        "\n",
        "# Split val/test with a fixed number of items, e.g. `(100, 100)`, for each set.\n",
        "# To only split into training and validation set, use a single number to `fixed`, i.e., `10`.\n",
        "# Set 3 values, e.g. `(300, 100, 100)`, to limit the number of training values.\n",
        "#splitfolders.fixed(\"/content/drive/MyDrive/Cattle\", output=\"/content/drive/MyDrive/Cattle\",seed=49, fixed=(100, 100), oversample=False, group_prefix=None, move=False) # default values"
      ],
      "metadata": {
        "id": "d_tvpff6T5nD"
      },
      "execution_count": null,
      "outputs": []
    },
    {
      "cell_type": "code",
      "source": [
        "input_folder = '/content/drive/MyDrive/Cattle'\n",
        "output = '/content/drive/MyDrive/split' #where you want the split datasets saved. one will be created if it does not exist or none is set\n",
        "#splitfolders.ratio(input_folder, output=output, seed=49, ratio=(.8, .1, .1)) # ratio of split are in order of train/val/test. You can change to whatever you want. For train/val sets only, you could do .75, .25 for example.\n",
        "splitfolders.ratio(input_folder, output,seed=1377, ratio=(.8, .2))"
      ],
      "metadata": {
        "id": "wTN713C_UP3L"
      },
      "execution_count": null,
      "outputs": []
    }
  ]
}